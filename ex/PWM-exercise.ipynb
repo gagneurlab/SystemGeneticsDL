{
 "cells": [
  {
   "cell_type": "markdown",
   "metadata": {
    "colab_type": "text",
    "id": "COxujsFRVw66"
   },
   "source": [
    "# Regulatory Genomics Lecture Exercise"
   ]
  },
  {
   "cell_type": "markdown",
   "metadata": {},
   "source": [
    "## Install the dependencies\n",
    "\n",
    "In addition to the pre-installed packages like numpy, pandas, matplotlib, keras, tensorflow, we'll install concise, a keras extension for regulatory genomics developed in the Gagneur lab: https://github.com/gagneurlab/concise."
   ]
  },
  {
   "cell_type": "code",
   "execution_count": null,
   "metadata": {
    "colab": {
     "autoexec": {
      "startup": false,
      "wait_interval": 0
     },
     "base_uri": "https://localhost:8080/",
     "height": 802
    },
    "colab_type": "code",
    "executionInfo": {
     "elapsed": 11783,
     "status": "ok",
     "timestamp": 1530607946762,
     "user": {
      "displayName": "Julien Gagneur",
      "photoUrl": "https://lh3.googleusercontent.com/a/default-user=s128",
      "userId": "115936015454403769288"
     },
     "user_tz": -120
    },
    "id": "X-5mNXL1Vw64",
    "outputId": "839e7894-0b54-4642-a16a-750ca312e11c"
   },
   "outputs": [],
   "source": [
    "! pip install concise"
   ]
  },
  {
   "cell_type": "code",
   "execution_count": null,
   "metadata": {
    "colab": {
     "autoexec": {
      "startup": false,
      "wait_interval": 0
     }
    },
    "colab_type": "code",
    "id": "pAOkKjVfVw68"
   },
   "outputs": [],
   "source": [
    "%load_ext autoreload\n",
    "%autoreload 2"
   ]
  },
  {
   "cell_type": "code",
   "execution_count": null,
   "metadata": {
    "colab": {
     "autoexec": {
      "startup": false,
      "wait_interval": 0
     },
     "base_uri": "https://localhost:8080/",
     "height": 34
    },
    "colab_type": "code",
    "executionInfo": {
     "elapsed": 9473,
     "status": "ok",
     "timestamp": 1530607972330,
     "user": {
      "displayName": "Julien Gagneur",
      "photoUrl": "https://lh3.googleusercontent.com/a/default-user=s128",
      "userId": "115936015454403769288"
     },
     "user_tz": -120
    },
    "id": "O24T_fqDVw6-",
    "outputId": "e75a408b-a925-4322-b637-3ba108907a30"
   },
   "outputs": [],
   "source": [
    "import concise\n",
    "from concise.preprocessing import encodeDNA\n",
    "from concise.utils import PWM\n",
    "\n",
    "from concise.utils.plot import seqlogo, seqlogo_fig"
   ]
  },
  {
   "cell_type": "code",
   "execution_count": null,
   "metadata": {
    "colab": {
     "autoexec": {
      "startup": false,
      "wait_interval": 0
     }
    },
    "colab_type": "code",
    "id": "qH_BuKucVw7C"
   },
   "outputs": [],
   "source": [
    "# Used additional packages\n",
    "%matplotlib inline\n",
    "\n",
    "import matplotlib.pyplot as plt\n",
    "\n",
    "import pandas as pd\n",
    "import numpy as np"
   ]
  },
  {
   "cell_type": "markdown",
   "metadata": {
    "colab_type": "text",
    "id": "sYBR6diWVw7F"
   },
   "source": [
    "## Load simulated data"
   ]
  },
  {
   "cell_type": "markdown",
   "metadata": {
    "colab_type": "text",
    "id": "vfExkPmZVw7G"
   },
   "source": [
    "## Get the data\n",
    "\n",
    "We are going to use simulated data of 10,000 500 bp long sequences with the positive set containing an instance of the TAL1 motif:\n",
    "![TAL1 known4](http://compbio.mit.edu/encode-motifs/logos/table/logos/small/rev/TAL1_known4.png)\n",
    "and the negative set will be random sequences. The data were simulated using simDNA https://github.com/kundajelab/simdna by Johnny Israeli and were deposited to https://github.com/kundajelab/dragonn."
   ]
  },
  {
   "cell_type": "code",
   "execution_count": null,
   "metadata": {
    "colab": {
     "autoexec": {
      "startup": false,
      "wait_interval": 0
     },
     "base_uri": "https://localhost:8080/",
     "height": 309
    },
    "colab_type": "code",
    "executionInfo": {
     "elapsed": 2532,
     "status": "ok",
     "timestamp": 1530607985037,
     "user": {
      "displayName": "Julien Gagneur",
      "photoUrl": "https://lh3.googleusercontent.com/a/default-user=s128",
      "userId": "115936015454403769288"
     },
     "user_tz": -120
    },
    "id": "VKVVoFIbVw7H",
    "outputId": "ee844b30-b5b4-48c8-c556-a49d8da04176"
   },
   "outputs": [],
   "source": [
    "!wget 'https://github.com/kundajelab/dragonn/raw/master/paper_supplement/simulation_data/GC_fraction0.4motif_nameTAL1_known4num_neg10000num_pos10000seq_length500.npz'"
   ]
  },
  {
   "cell_type": "markdown",
   "metadata": {},
   "source": [
    "We now list all files in our directory"
   ]
  },
  {
   "cell_type": "code",
   "execution_count": null,
   "metadata": {},
   "outputs": [],
   "source": [
    "ls"
   ]
  },
  {
   "cell_type": "markdown",
   "metadata": {},
   "source": [
    "## Load the data\n",
    "The following function can load the data."
   ]
  },
  {
   "cell_type": "code",
   "execution_count": null,
   "metadata": {
    "colab": {
     "autoexec": {
      "startup": false,
      "wait_interval": 0
     }
    },
    "colab_type": "code",
    "id": "FTXpQ55cVw7K"
   },
   "outputs": [],
   "source": [
    "import numpy as np\n",
    "\n",
    "def load_simulated_data(path):\n",
    "    \"\"\"Load the simulated dataset\n",
    "    \n",
    "    Args:\n",
    "      path: path to the .npz file c\n",
    "    \"\"\"\n",
    "    data = np.load(path)\n",
    "\n",
    "    x_train = data[\"X_train\"].squeeze(1).swapaxes(1,2)\n",
    "    x_valid = data[\"X_valid\"].squeeze(1).swapaxes(1,2)\n",
    "    y_train = data['y_train']\n",
    "    y_valid = data['y_valid']\n",
    "    return (x_train, y_train), (x_valid, y_valid)"
   ]
  },
  {
   "cell_type": "code",
   "execution_count": null,
   "metadata": {
    "colab": {
     "autoexec": {
      "startup": false,
      "wait_interval": 0
     }
    },
    "colab_type": "code",
    "id": "_SGh59ygVw7N"
   },
   "outputs": [],
   "source": [
    "(x_train, y_train), (x_test, y_test) = load_simulated_data(\"GC_fraction0.4motif_nameTAL1_known4num_neg10000num_pos10000seq_length500.npz\")"
   ]
  },
  {
   "cell_type": "code",
   "execution_count": null,
   "metadata": {
    "colab": {
     "autoexec": {
      "startup": false,
      "wait_interval": 0
     },
     "base_uri": "https://localhost:8080/",
     "height": 34
    },
    "colab_type": "code",
    "executionInfo": {
     "elapsed": 441,
     "status": "ok",
     "timestamp": 1530608065509,
     "user": {
      "displayName": "Julien Gagneur",
      "photoUrl": "https://lh3.googleusercontent.com/a/default-user=s128",
      "userId": "115936015454403769288"
     },
     "user_tz": -120
    },
    "id": "k9dxJH8YVw7P",
    "outputId": "a306cfae-8caf-44c5-9ebf-4abd666afa3e"
   },
   "outputs": [],
   "source": [
    "x_train.shape"
   ]
  },
  {
   "cell_type": "code",
   "execution_count": null,
   "metadata": {
    "colab": {
     "autoexec": {
      "startup": false,
      "wait_interval": 0
     }
    },
    "colab_type": "code",
    "id": "M7t1ltVDWhD7"
   },
   "outputs": [],
   "source": [
    "y_train.shape"
   ]
  },
  {
   "cell_type": "code",
   "execution_count": null,
   "metadata": {},
   "outputs": [],
   "source": [
    "x_test.shape"
   ]
  },
  {
   "cell_type": "code",
   "execution_count": null,
   "metadata": {},
   "outputs": [],
   "source": [
    "y_test.shape"
   ]
  },
  {
   "cell_type": "markdown",
   "metadata": {},
   "source": [
    "As you can see, there are 12.8k training examples and 3.2k test examples."
   ]
  },
  {
   "cell_type": "markdown",
   "metadata": {},
   "source": [
    "### Visualize the first sequence"
   ]
  },
  {
   "cell_type": "markdown",
   "metadata": {},
   "source": [
    "The response value is a binary variable:"
   ]
  },
  {
   "cell_type": "code",
   "execution_count": null,
   "metadata": {},
   "outputs": [],
   "source": [
    "y_train[:5]"
   ]
  },
  {
   "cell_type": "code",
   "execution_count": null,
   "metadata": {},
   "outputs": [],
   "source": [
    "y_train.mean()"
   ]
  },
  {
   "cell_type": "code",
   "execution_count": null,
   "metadata": {},
   "outputs": [],
   "source": [
    "y_test.mean()"
   ]
  },
  {
   "cell_type": "markdown",
   "metadata": {},
   "source": [
    "\n",
    "As the means are close to 0.5, there are balanced classes, i.e. roughly the same number of positive and negative instances. This ratio is the same for training and testing. This is an ideal situation for training a classifier."
   ]
  },
  {
   "cell_type": "markdown",
   "metadata": {},
   "source": [
    "\n",
    "The input is the one-hot-encoded DNA sequence:"
   ]
  },
  {
   "cell_type": "code",
   "execution_count": null,
   "metadata": {},
   "outputs": [],
   "source": [
    "x_train[0][:10]"
   ]
  },
  {
   "cell_type": "code",
   "execution_count": null,
   "metadata": {},
   "outputs": [],
   "source": [
    "from concise.preprocessing.sequence import one_hot2string, DNA"
   ]
  },
  {
   "cell_type": "code",
   "execution_count": null,
   "metadata": {},
   "outputs": [],
   "source": [
    "one_hot2string(x_train[:1], DNA)[0]"
   ]
  },
  {
   "cell_type": "markdown",
   "metadata": {
    "colab_type": "text",
    "id": "HMlGX-Q6Vw7U"
   },
   "source": [
    "## Load TAL1 motif Position-specific Weight Matrix (PWM)"
   ]
  },
  {
   "cell_type": "markdown",
   "metadata": {
    "colab_type": "text",
    "id": "CYR0qksoVw7U"
   },
   "source": [
    "Get PWM of TAL1 motif"
   ]
  },
  {
   "cell_type": "code",
   "execution_count": null,
   "metadata": {
    "colab": {
     "autoexec": {
      "startup": false,
      "wait_interval": 0
     },
     "base_uri": "https://localhost:8080/",
     "height": 289
    },
    "colab_type": "code",
    "executionInfo": {
     "elapsed": 2020,
     "status": "ok",
     "timestamp": 1530608183566,
     "user": {
      "displayName": "Julien Gagneur",
      "photoUrl": "https://lh3.googleusercontent.com/a/default-user=s128",
      "userId": "115936015454403769288"
     },
     "user_tz": -120
    },
    "id": "nWMDYTY7Vw7W",
    "outputId": "4f0746e2-5df4-4a50-d337-2b318734ae6f"
   },
   "outputs": [],
   "source": [
    "! wget https://github.com/gagneurlab/SystemGeneticsDL/raw/master/TAL1_known4.npy"
   ]
  },
  {
   "cell_type": "code",
   "execution_count": null,
   "metadata": {
    "colab": {
     "autoexec": {
      "startup": false,
      "wait_interval": 0
     }
    },
    "colab_type": "code",
    "id": "d87qoDUCVw7a"
   },
   "outputs": [],
   "source": [
    "pwm = np.load(\"TAL1_known4.npy\")"
   ]
  },
  {
   "cell_type": "code",
   "execution_count": null,
   "metadata": {},
   "outputs": [],
   "source": [
    "seqlogo_fig(pwm);"
   ]
  },
  {
   "cell_type": "markdown",
   "metadata": {
    "colab_type": "text",
    "id": "AIB1kF98Vw7e"
   },
   "source": [
    "## Predict binding with pwm scan model"
   ]
  },
  {
   "cell_type": "markdown",
   "metadata": {},
   "source": [
    "In this section, you will implement a PWM scan model, which is a convolution operation"
   ]
  },
  {
   "cell_type": "code",
   "execution_count": null,
   "metadata": {
    "colab": {
     "autoexec": {
      "startup": false,
      "wait_interval": 0
     }
    },
    "colab_type": "code",
    "id": "7Hw1TZ8bVw7e"
   },
   "outputs": [],
   "source": [
    "# A naiv version\n",
    "def pwm_scan(sequence, pwm, pad=0, stride=1):\n",
    "    \"\"\" sequence: (N, L, 4)\n",
    "    output length given by L' = 1 + (L + 2*P - F) / stride\n",
    "    \"\"\"\n",
    "    pwm = np.log(pwm) # transform frequencies into log scale to have an additive model\n",
    "    assert len(sequence.shape) == 3\n",
    "    assert pwm.shape[1] == 4\n",
    "    N, L, _ = sequence.shape\n",
    "    F, _ = pwm.shape\n",
    "    S = stride\n",
    "    assert (L + 2 * pad - F) % S == 0, \"Size not fit.\"\n",
    "    L_out = int(1 + (L + 2 * pad - F) / S)\n",
    "    out = np.zeros((N, L_out))\n",
    "\n",
    "    x_pad = np.pad(sequence, ((0, 0), (1, 1), (0,0)), mode='constant')\n",
    "\n",
    "    ###################################################################\n",
    "    # Fill your code here\n",
    "    # Write the PWM scan (convolution) operation, store the output\n",
    "    # into `out` array.\n",
    "    \n",
    "    \n",
    "    ###################################################################\n",
    "\n",
    "\n",
    "    return out"
   ]
  },
  {
   "cell_type": "code",
   "execution_count": null,
   "metadata": {
    "colab": {
     "autoexec": {
      "startup": false,
      "wait_interval": 0
     }
    },
    "colab_type": "code",
    "id": "NI1u3UluVw7g"
   },
   "outputs": [],
   "source": [
    "scores = pwm_scan(x_test, pwm)"
   ]
  },
  {
   "cell_type": "code",
   "execution_count": null,
   "metadata": {
    "colab": {
     "autoexec": {
      "startup": false,
      "wait_interval": 0
     }
    },
    "colab_type": "code",
    "id": "w1iuxKTbVw7i",
    "outputId": "2c9bd2f0-fbd9-48fb-cf5f-56cb016c979d"
   },
   "outputs": [],
   "source": [
    "scores.shape"
   ]
  },
  {
   "cell_type": "markdown",
   "metadata": {
    "colab_type": "text",
    "id": "zITYzIIlVw7o"
   },
   "source": [
    "## Summarize PWM scan ouput per sequence with two pooling strategies"
   ]
  },
  {
   "cell_type": "markdown",
   "metadata": {
    "colab_type": "text",
    "id": "QRdpFPuJVw7o"
   },
   "source": [
    "Try two pooling strategies:\n",
    "  * GloabalAveragePooling: Take average score per sequence \n",
    "  * GloabalMaxPooling: take max activation score"
   ]
  },
  {
   "cell_type": "markdown",
   "metadata": {
    "colab_type": "text",
    "id": "jtjvEZI3Vw7q"
   },
   "source": [
    "### Averange Pooling"
   ]
  },
  {
   "cell_type": "code",
   "execution_count": null,
   "metadata": {
    "colab": {
     "autoexec": {
      "startup": false,
      "wait_interval": 0
     }
    },
    "colab_type": "code",
    "id": "zvnY5nnSVw7q"
   },
   "outputs": [],
   "source": [
    "mean_scores = ## Fill your code here"
   ]
  },
  {
   "cell_type": "code",
   "execution_count": null,
   "metadata": {
    "colab": {
     "autoexec": {
      "startup": false,
      "wait_interval": 0
     }
    },
    "colab_type": "code",
    "id": "XfdzTBO3Vw7t",
    "outputId": "11ce58f7-347d-459c-aef5-c41972f6f9d8"
   },
   "outputs": [],
   "source": [
    "plt.boxplot([mean_scores[y_test.flatten()], mean_scores[~y_test.flatten()]], labels=['Binding','Not Binding'])\n",
    "plt.ylabel(\"PWM mean score\")\n",
    "plt.show()"
   ]
  },
  {
   "cell_type": "markdown",
   "metadata": {
    "colab_type": "text",
    "id": "bhTm_1hOVw7v"
   },
   "source": [
    "### Max Pooling"
   ]
  },
  {
   "cell_type": "code",
   "execution_count": null,
   "metadata": {
    "colab": {
     "autoexec": {
      "startup": false,
      "wait_interval": 0
     }
    },
    "colab_type": "code",
    "id": "BDX0lecqVw7v"
   },
   "outputs": [],
   "source": [
    "max_scores = ## Fill your code here"
   ]
  },
  {
   "cell_type": "code",
   "execution_count": null,
   "metadata": {
    "colab": {
     "autoexec": {
      "startup": false,
      "wait_interval": 0
     }
    },
    "colab_type": "code",
    "id": "yWq65Z7MVw7x",
    "outputId": "78496b5a-9f62-44bf-ec0c-3b9cae0059bb"
   },
   "outputs": [],
   "source": [
    "plt.boxplot([max_scores[y_test.flatten()], max_scores[~y_test.flatten()]], labels=['Binding','Not Binding'])\n",
    "plt.ylabel(\"PWM mean score\")\n",
    "plt.show()"
   ]
  },
  {
   "cell_type": "markdown",
   "metadata": {
    "colab_type": "text",
    "id": "2kOROYgQVw7z"
   },
   "source": [
    "### Check performance"
   ]
  },
  {
   "cell_type": "code",
   "execution_count": null,
   "metadata": {
    "colab": {
     "autoexec": {
      "startup": false,
      "wait_interval": 0
     }
    },
    "colab_type": "code",
    "id": "ozl-mgcmVw70"
   },
   "outputs": [],
   "source": [
    "from sklearn.metrics import roc_curve, roc_auc_score"
   ]
  },
  {
   "cell_type": "code",
   "execution_count": null,
   "metadata": {
    "colab": {
     "autoexec": {
      "startup": false,
      "wait_interval": 0
     }
    },
    "colab_type": "code",
    "id": "THNemSzAVw72"
   },
   "outputs": [],
   "source": [
    "roc = {}\n",
    "roc['mean_roc'] = roc_auc_score(y_test, mean_scores)\n",
    "roc['max_roc'] = roc_auc_score(y_test, max_scores)"
   ]
  },
  {
   "cell_type": "code",
   "execution_count": null,
   "metadata": {
    "colab": {
     "autoexec": {
      "startup": false,
      "wait_interval": 0
     }
    },
    "colab_type": "code",
    "id": "RLgzltwTVw73"
   },
   "outputs": [],
   "source": [
    "fpr = {}\n",
    "tpr = {}\n",
    "fpr['Mean'], tpr[\"Mean\"], _ = roc_curve(y_test, mean_scores)\n",
    "fpr['Max'], tpr[\"Max\"], _ = roc_curve(y_test, max_scores)"
   ]
  },
  {
   "cell_type": "code",
   "execution_count": null,
   "metadata": {
    "colab": {
     "autoexec": {
      "startup": false,
      "wait_interval": 0
     }
    },
    "colab_type": "code",
    "id": "ev-yPGAHVw75",
    "outputId": "8374d4bc-68f3-421e-937d-cd362fdd9e1e"
   },
   "outputs": [],
   "source": [
    "plt.plot(fpr['Mean'], tpr[\"Mean\"], color='darkorange', \n",
    "        label = 'AveragePooling ROC={%0.2f}' % roc['mean_roc'])\n",
    "plt.plot(fpr['Max'], tpr[\"Max\"], color='cornflowerblue', \n",
    "        label = 'MaxPooling ROC={%0.2f}' % roc['max_roc'])\n",
    "plt.plot([0, 1], [0, 1], 'k--')\n",
    "plt.xlabel('False Positive Rate')\n",
    "plt.ylabel('True Positive Rate')\n",
    "plt.legend(loc=\"lower right\")\n",
    "plt.show()"
   ]
  },
  {
   "cell_type": "markdown",
   "metadata": {
    "colab_type": "text",
    "id": "kPKFYfJRVw77"
   },
   "source": [
    "## Build a convolutional neural network"
   ]
  },
  {
   "cell_type": "markdown",
   "metadata": {},
   "source": [
    "The following code will give you an end-to-end example for training, evaluating and visualizing convolutional neural networks for DNA sequence models."
   ]
  },
  {
   "cell_type": "markdown",
   "metadata": {
    "colab_type": "text",
    "id": "_acLMVPUVw78"
   },
   "source": [
    "### Define the model\n",
    "\n",
    "We'll use Keras (https://keras.io), a popular deep learning library wrapping frameworks like TensorFlow to define and train a neural network. After running the code, go to the documentation and read more about Keras.\n",
    "\n",
    "\n",
    "https://keras.io/getting-started/sequential-model-guide/"
   ]
  },
  {
   "cell_type": "markdown",
   "metadata": {},
   "source": [
    "We will now implement a neural network (sketch below) consisting of one convolutional filter whose outputs are  transfomed by the ReLU activation function ($\\text{ReLU}(x) = \\max(0,x)$). On the resulting vector, we keep the maximal value (\"max pooling\") giving us a 1-long vector. We then perform a linear transformation of this 1-long vector into a single scalar (\"Dense layer\") which we map to the $[0,1]$ interval with sigmoid activation function $\\text{sigm}(x) = \\frac{1}{1+\\exp(-x)}$. The interpratation of the output is the probability that the sequence is bound by the transcription factor TAL1."
   ]
  },
  {
   "cell_type": "code",
   "execution_count": null,
   "metadata": {},
   "outputs": [],
   "source": [
    "## required keras modules\n",
    "from keras.models import Model, load_model, Sequential\n",
    "import keras.layers as kl\n",
    "import keras.optimizers as ko"
   ]
  },
  {
   "cell_type": "markdown",
   "metadata": {},
   "source": [
    "For the convolution operation, we will use  `ConvDNA` from `concise` package. It offers convenient functions to visualize the learned convolution filters."
   ]
  },
  {
   "cell_type": "code",
   "execution_count": null,
   "metadata": {},
   "outputs": [],
   "source": [
    "import concise.layers as cl"
   ]
  },
  {
   "cell_type": "markdown",
   "metadata": {},
   "source": [
    "Model achitecture: ConvDNA (which is Conv1D) --> GlobalMaxPooling1D  -->  Dense --> Sigmoid"
   ]
  },
  {
   "cell_type": "code",
   "execution_count": null,
   "metadata": {
    "colab": {
     "autoexec": {
      "startup": false,
      "wait_interval": 0
     }
    },
    "colab_type": "code",
    "id": "NP7taP_nVw79"
   },
   "outputs": [],
   "source": [
    "model = Sequential()\n",
    "###################################################################\n",
    "# Fill your code here\n",
    "# Use model.add() to add layers\n",
    "# ConvDNA: cl.ConvDNA()\n",
    "# GlobalMaxPooling1D: kl.GlobalMaxPooling1D()\n",
    "# Dense: kl.Dense()\n",
    "# Sigmoid: kl.Activation('sigmoid')\n",
    "###################################################################"
   ]
  },
  {
   "cell_type": "code",
   "execution_count": null,
   "metadata": {
    "colab": {
     "autoexec": {
      "startup": false,
      "wait_interval": 0
     }
    },
    "colab_type": "code",
    "id": "53oAyXmtVw7-",
    "outputId": "45c4d4c5-dbbf-40c9-b67d-984928dcc0d2"
   },
   "outputs": [],
   "source": [
    "model.summary()"
   ]
  },
  {
   "cell_type": "markdown",
   "metadata": {},
   "source": [
    "The following image shows the initial weights:"
   ]
  },
  {
   "cell_type": "code",
   "execution_count": null,
   "metadata": {},
   "outputs": [],
   "source": [
    "model.layers[0].plot_weights(figsize=(20, 3), plot_type=\"motif_pwm_info\");"
   ]
  },
  {
   "cell_type": "markdown",
   "metadata": {},
   "source": [
    "### Train the model"
   ]
  },
  {
   "cell_type": "code",
   "execution_count": null,
   "metadata": {
    "colab": {
     "autoexec": {
      "startup": false,
      "wait_interval": 0
     }
    },
    "colab_type": "code",
    "id": "lBTwA9MBVw8A",
    "outputId": "c1c0575f-53cb-4483-ed4d-c44dc89b609d"
   },
   "outputs": [],
   "source": [
    "from keras import optimizers\n",
    "\n",
    "model.compile(optimizer=optimizers.Adam(lr=0.05), loss=\"binary_crossentropy\")\n",
    "\n",
    "from keras.callbacks import EarlyStopping\n",
    "\n",
    "model.fit(x=x_train, y=y_train, epochs=300, verbose=2,\n",
    "          callbacks=[\n",
    "              EarlyStopping(patience=5)\n",
    "          ],\n",
    "          validation_split=.2\n",
    "         )"
   ]
  },
  {
   "cell_type": "code",
   "execution_count": null,
   "metadata": {
    "colab": {
     "autoexec": {
      "startup": false,
      "wait_interval": 0
     }
    },
    "colab_type": "code",
    "id": "EDHV_IPdVw8D",
    "outputId": "cc0f54cd-171e-440d-d3e8-ed8a3284cf65"
   },
   "outputs": [],
   "source": [
    "model.layers[0]"
   ]
  },
  {
   "cell_type": "code",
   "execution_count": null,
   "metadata": {
    "colab": {
     "autoexec": {
      "startup": false,
      "wait_interval": 0
     }
    },
    "colab_type": "code",
    "id": "TGB5GEhPVw8J",
    "outputId": "daeaae2a-b78b-4a63-e23d-c000120d9b07"
   },
   "outputs": [],
   "source": [
    "model.layers[0].plot_weights(figsize=(20, 3), plot_type=\"motif_pwm_info\");"
   ]
  },
  {
   "cell_type": "code",
   "execution_count": null,
   "metadata": {
    "colab": {
     "autoexec": {
      "startup": false,
      "wait_interval": 0
     }
    },
    "colab_type": "code",
    "id": "ujs1bxtjVw8L"
   },
   "outputs": [],
   "source": [
    "y_test_pred = model.predict(x_test)\n",
    "\n",
    "roc['ConvNet1Motif'] = roc_auc_score(y_test, y_test_pred)"
   ]
  },
  {
   "cell_type": "code",
   "execution_count": null,
   "metadata": {
    "colab": {
     "autoexec": {
      "startup": false,
      "wait_interval": 0
     }
    },
    "colab_type": "code",
    "id": "dZ_tO2NPVw8N"
   },
   "outputs": [],
   "source": [
    "fpr['ConvNet1Motif'], tpr[\"ConvNet1Motif\"], _ = roc_curve(y_test, y_test_pred)"
   ]
  },
  {
   "cell_type": "code",
   "execution_count": null,
   "metadata": {
    "colab": {
     "autoexec": {
      "startup": false,
      "wait_interval": 0
     }
    },
    "colab_type": "code",
    "id": "SKvnPnGjVw8Q",
    "outputId": "af45be8a-d764-4af1-c392-6e9da450dcc3"
   },
   "outputs": [],
   "source": [
    "plt.plot(fpr['ConvNet1Motif'], tpr[\"ConvNet1Motif\"], color='darkorange', \n",
    "        label = 'ConvNet1Motif ROC={%0.2f}' % roc['ConvNet1Motif'])\n",
    "plt.plot([0, 1], [0, 1], 'k--')\n",
    "plt.xlabel('False Positive Rate')\n",
    "plt.ylabel('True Positive Rate')\n",
    "plt.legend(loc=\"lower right\")\n",
    "plt.show()"
   ]
  },
  {
   "cell_type": "markdown",
   "metadata": {
    "colab_type": "text",
    "id": "8d_zY6TtVw8S"
   },
   "source": [
    "### Build a model with 4 filters"
   ]
  },
  {
   "cell_type": "markdown",
   "metadata": {},
   "source": [
    "We will now implement a neural network (sketch below) consisting of 4 convolutional filters whose outputs are transfomed by the ReLU activation function ($\\text{ReLU}(x) = \\max(0,x)$). On each of the 4 resulting vectors, we keep the maximal value (\"max pooling\") giving a us 4-long vector. We then perform a linear transformation of this 4-long vector into a single scalar (\"Dense layer\") which we map to the $[0,1]$ interval with sigmoid activation function $\\text{sigm}(x) = \\frac{1}{1+\\exp(-x)} $ . The interpratation of the output is the probability that the sequence is bound by the transcription factor TAL1."
   ]
  },
  {
   "cell_type": "code",
   "execution_count": null,
   "metadata": {},
   "outputs": [],
   "source": [
    "model = Sequential()\n",
    "###################################################################\n",
    "# Fill your code here\n",
    "# Use model.add() to add layers\n",
    "# ConvDNA: cl.ConvDNA()\n",
    "# GlobalMaxPooling1D: kl.GlobalMaxPooling1D()\n",
    "# Dense: kl.Dense()\n",
    "# Sigmoid: kl.Activation('sigmoid')\n",
    "###################################################################"
   ]
  },
  {
   "cell_type": "code",
   "execution_count": null,
   "metadata": {
    "colab": {
     "autoexec": {
      "startup": false,
      "wait_interval": 0
     }
    },
    "colab_type": "code",
    "id": "-ZZKPIWZVw8V",
    "outputId": "9bf5ba06-ac79-414a-9e9a-1caf3343c5f2"
   },
   "outputs": [],
   "source": [
    "from keras import optimizers\n",
    "\n",
    "model.compile(optimizer=optimizers.Adam(lr=0.05), loss=\"binary_crossentropy\")\n",
    "\n",
    "from keras.callbacks import EarlyStopping\n",
    "\n",
    "model.fit(x=x_train, y=y_train, epochs=300, verbose=2,\n",
    "          callbacks=[\n",
    "              EarlyStopping(patience=5)\n",
    "          ],\n",
    "          validation_split=.2\n",
    "         )"
   ]
  },
  {
   "cell_type": "code",
   "execution_count": null,
   "metadata": {
    "colab": {
     "autoexec": {
      "startup": false,
      "wait_interval": 0
     },
     "base_uri": "https://localhost:8080/",
     "height": 164
    },
    "colab_type": "code",
    "executionInfo": {
     "elapsed": 883,
     "status": "error",
     "timestamp": 1530609486177,
     "user": {
      "displayName": "Julien Gagneur",
      "photoUrl": "https://lh3.googleusercontent.com/a/default-user=s128",
      "userId": "115936015454403769288"
     },
     "user_tz": -120
    },
    "id": "DU_HnqFxVw8X",
    "outputId": "0b2e5cc6-2ee5-4084-fcc7-e08d43df5ff0"
   },
   "outputs": [],
   "source": [
    "model.layers[0].plot_weights(figsize=(20, 12), plot_type=\"motif_pwm_info\");"
   ]
  },
  {
   "cell_type": "code",
   "execution_count": null,
   "metadata": {
    "colab": {
     "autoexec": {
      "startup": false,
      "wait_interval": 0
     }
    },
    "colab_type": "code",
    "id": "qM7E0gxlVw8b"
   },
   "outputs": [],
   "source": [
    "y_test_pred = model.predict(x_test)\n",
    "\n",
    "roc['ConvNet16Motif'] = roc_auc_score(y_test, y_test_pred)"
   ]
  },
  {
   "cell_type": "code",
   "execution_count": null,
   "metadata": {
    "colab": {
     "autoexec": {
      "startup": false,
      "wait_interval": 0
     }
    },
    "colab_type": "code",
    "id": "ZXmHOtC5Vw8d"
   },
   "outputs": [],
   "source": [
    "fpr['ConvNet16Motif'], tpr[\"ConvNet16Motif\"], _ = roc_curve(y_test, y_test_pred)"
   ]
  },
  {
   "cell_type": "code",
   "execution_count": null,
   "metadata": {
    "colab": {
     "autoexec": {
      "startup": false,
      "wait_interval": 0
     }
    },
    "colab_type": "code",
    "id": "UrqTFyaeVw8e",
    "outputId": "d080596c-8be5-42f9-ea04-50f269440d14"
   },
   "outputs": [],
   "source": [
    "plt.plot(fpr['ConvNet16Motif'], tpr[\"ConvNet16Motif\"], color='darkorange', \n",
    "        label = 'ConvNet16Motif ROC={%0.2f}' % roc['ConvNet16Motif'])\n",
    "plt.plot([0, 1], [0, 1], 'k--')\n",
    "plt.xlabel('False Positive Rate')\n",
    "plt.ylabel('True Positive Rate')\n",
    "plt.legend(loc=\"lower right\")\n",
    "plt.show()"
   ]
  },
  {
   "cell_type": "code",
   "execution_count": null,
   "metadata": {
    "colab": {
     "autoexec": {
      "startup": false,
      "wait_interval": 0
     }
    },
    "colab_type": "code",
    "id": "WpeaByCyVw8i"
   },
   "outputs": [],
   "source": []
  }
 ],
 "metadata": {
  "accelerator": "GPU",
  "colab": {
   "default_view": {},
   "name": "RegGenomics.ipynb",
   "provenance": [],
   "version": "0.3.2",
   "views": {}
  },
  "kernelspec": {
   "display_name": "Python 3",
   "language": "python",
   "name": "python3"
  },
  "language_info": {
   "codemirror_mode": {
    "name": "ipython",
    "version": 3
   },
   "file_extension": ".py",
   "mimetype": "text/x-python",
   "name": "python",
   "nbconvert_exporter": "python",
   "pygments_lexer": "ipython3",
   "version": "3.7.1"
  }
 },
 "nbformat": 4,
 "nbformat_minor": 2
}
