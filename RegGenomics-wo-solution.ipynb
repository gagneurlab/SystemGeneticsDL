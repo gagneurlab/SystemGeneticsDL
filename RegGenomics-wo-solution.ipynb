{
 "cells": [
  {
   "cell_type": "code",
   "execution_count": null,
   "metadata": {},
   "outputs": [],
   "source": [
    "! pip install concise"
   ]
  },
  {
   "cell_type": "markdown",
   "metadata": {},
   "source": [
    "# Regulatory Genomics Lecture Exercise"
   ]
  },
  {
   "cell_type": "code",
   "execution_count": 1,
   "metadata": {},
   "outputs": [],
   "source": [
    "%load_ext autoreload\n",
    "%autoreload 2"
   ]
  },
  {
   "cell_type": "code",
   "execution_count": 2,
   "metadata": {},
   "outputs": [
    {
     "name": "stderr",
     "output_type": "stream",
     "text": [
      "/opt/modules/i12g/anaconda/3-5.0.1/envs/splicing/lib/python3.5/site-packages/h5py/__init__.py:36: FutureWarning: Conversion of the second argument of issubdtype from `float` to `np.floating` is deprecated. In future, it will be treated as `np.float64 == np.dtype(float).type`.\n",
      "  from ._conv import register_converters as _register_converters\n",
      "Using TensorFlow backend.\n"
     ]
    }
   ],
   "source": [
    "import concise\n",
    "import concise.layers as cl\n",
    "import concise.initializers as ci\n",
    "import concise.regularizers as cr\n",
    "import concise.metrics as cm\n",
    "from concise.preprocessing import encodeDNA, encodeSplines\n",
    "from concise.utils import PWM\n",
    "\n",
    "from concise.utils.plot import seqlogo, seqlogo_fig"
   ]
  },
  {
   "cell_type": "code",
   "execution_count": 3,
   "metadata": {},
   "outputs": [],
   "source": [
    "# Used additional packages\n",
    "%matplotlib inline\n",
    "\n",
    "import matplotlib.pyplot as plt\n",
    "\n",
    "import pandas as pd\n",
    "import numpy as np\n",
    "\n",
    "## required keras modules\n",
    "from keras.models import Model, load_model, Sequential\n",
    "import keras.layers as kl\n",
    "import keras.optimizers as ko"
   ]
  },
  {
   "cell_type": "markdown",
   "metadata": {},
   "source": [
    "## Load simulated data"
   ]
  },
  {
   "cell_type": "markdown",
   "metadata": {},
   "source": [
    "The simulated data contains one-hot-encoded DNA sequence, with protein binding motifs embedded."
   ]
  },
  {
   "cell_type": "code",
   "execution_count": 4,
   "metadata": {},
   "outputs": [
    {
     "name": "stdout",
     "output_type": "stream",
     "text": [
      "--2018-07-03 01:01:42--  https://github.com/kundajelab/dragonn/raw/master/paper_supplement/simulation_data/GC_fraction0.4motif_nameTAL1_known4num_neg10000num_pos10000seq_length500.npz\r\n",
      "Resolving github.com (github.com)... 192.30.253.113, 192.30.253.112\r\n",
      "Connecting to github.com (github.com)|192.30.253.113|:443... connected.\r\n",
      "HTTP request sent, awaiting response... 302 Found\r\n",
      "Location: https://raw.githubusercontent.com/kundajelab/dragonn/master/paper_supplement/simulation_data/GC_fraction0.4motif_nameTAL1_known4num_neg10000num_pos10000seq_length500.npz [following]\r\n",
      "--2018-07-03 01:01:43--  https://raw.githubusercontent.com/kundajelab/dragonn/master/paper_supplement/simulation_data/GC_fraction0.4motif_nameTAL1_known4num_neg10000num_pos10000seq_length500.npz\r\n",
      "Resolving raw.githubusercontent.com (raw.githubusercontent.com)... 151.101.112.133\r\n",
      "Connecting to raw.githubusercontent.com (raw.githubusercontent.com)|151.101.112.133|:443... connected.\r\n",
      "HTTP request sent, awaiting response... 200 OK\r\n",
      "Length: 6015773 (5.7M) [application/octet-stream]\r\n",
      "Saving to: ‘GC_fraction0.4motif_nameTAL1_known4num_neg10000num_pos10000seq_length500.npz’\r\n",
      "\r\n",
      "\r",
      " 0% [                                       ] 0           --.-K/s              \r",
      "44% [================>                      ] 2,678,784   12.7MB/s             \r",
      "100%[======================================>] 6,015,773   18.3MB/s   in 0.3s   \r\n",
      "\r\n",
      "2018-07-03 01:01:43 (18.3 MB/s) - ‘GC_fraction0.4motif_nameTAL1_known4num_neg10000num_pos10000seq_length500.npz’ saved [6015773/6015773]\r\n",
      "\r\n"
     ]
    }
   ],
   "source": [
    "!wget 'https://github.com/kundajelab/dragonn/raw/master/paper_supplement/simulation_data/GC_fraction0.4motif_nameTAL1_known4num_neg10000num_pos10000seq_length500.npz'"
   ]
  },
  {
   "cell_type": "code",
   "execution_count": 5,
   "metadata": {},
   "outputs": [],
   "source": [
    "import numpy as np\n",
    "\n",
    "def load_simulated_data(path):\n",
    "    \"\"\"Load the simulated dataset\n",
    "    \n",
    "    Args:\n",
    "      path: path to the .npz file c\n",
    "    \"\"\"\n",
    "    data = np.load(path)\n",
    "\n",
    "    x_train = data[\"X_train\"].squeeze(1).swapaxes(1,2)\n",
    "    x_valid = data[\"X_valid\"].squeeze(1).swapaxes(1,2)\n",
    "    y_train = data['y_train']\n",
    "    y_valid = data['y_valid']\n",
    "    return (x_train, y_train), (x_valid, y_valid)"
   ]
  },
  {
   "cell_type": "code",
   "execution_count": 6,
   "metadata": {},
   "outputs": [],
   "source": [
    "(x_train, y_train), (x_test, y_test) = load_simulated_data(\"GC_fraction0.4motif_nameTAL1_known4num_neg10000num_pos10000seq_length500.npz\")"
   ]
  },
  {
   "cell_type": "code",
   "execution_count": 7,
   "metadata": {},
   "outputs": [
    {
     "data": {
      "text/plain": [
       "(12800, 500, 4)"
      ]
     },
     "execution_count": 7,
     "metadata": {},
     "output_type": "execute_result"
    }
   ],
   "source": [
    "x_train.shape"
   ]
  },
  {
   "cell_type": "markdown",
   "metadata": {},
   "source": [
    "## Load TAL1 motif PWM"
   ]
  },
  {
   "cell_type": "markdown",
   "metadata": {},
   "source": [
    "Get PWM of TAL1 motif"
   ]
  },
  {
   "cell_type": "code",
   "execution_count": 8,
   "metadata": {},
   "outputs": [
    {
     "name": "stdout",
     "output_type": "stream",
     "text": [
      "--2018-07-03 01:01:54--  https://github.com/s6juncheng/SystemGeneticsDL/raw/master/TAL1_known4.npy\r\n",
      "Resolving github.com (github.com)... 192.30.253.112, 192.30.253.113\r\n",
      "Connecting to github.com (github.com)|192.30.253.112|:443... connected.\r\n",
      "HTTP request sent, awaiting response... 302 Found\r\n",
      "Location: https://raw.githubusercontent.com/s6juncheng/SystemGeneticsDL/master/TAL1_known4.npy [following]\r\n",
      "--2018-07-03 01:01:54--  https://raw.githubusercontent.com/s6juncheng/SystemGeneticsDL/master/TAL1_known4.npy\r\n",
      "Resolving raw.githubusercontent.com (raw.githubusercontent.com)... 151.101.112.133\r\n",
      "Connecting to raw.githubusercontent.com (raw.githubusercontent.com)|151.101.112.133|:443... connected.\r\n",
      "HTTP request sent, awaiting response... 200 OK\r\n",
      "Length: 640 [application/octet-stream]\r\n",
      "Saving to: ‘TAL1_known4.npy’\r\n",
      "\r\n",
      "\r",
      " 0% [                                       ] 0           --.-K/s              \r",
      "100%[======================================>] 640         --.-K/s   in 0s      \r\n",
      "\r\n",
      "2018-07-03 01:01:54 (131 MB/s) - ‘TAL1_known4.npy’ saved [640/640]\r\n",
      "\r\n"
     ]
    }
   ],
   "source": [
    "! wget https://github.com/s6juncheng/SystemGeneticsDL/raw/master/TAL1_known4.npy"
   ]
  },
  {
   "cell_type": "code",
   "execution_count": 9,
   "metadata": {},
   "outputs": [],
   "source": [
    "# import cresim\n",
    "# pwm = cresim.cre.Cre.loadPWM('TAL1_known3').pwm.getRows()"
   ]
  },
  {
   "cell_type": "code",
   "execution_count": 10,
   "metadata": {},
   "outputs": [],
   "source": [
    "pwm = np.load(\"TAL1_known4.npy\")"
   ]
  },
  {
   "cell_type": "markdown",
   "metadata": {},
   "source": [
    "TAL1 motif:\n",
    "![TAL1 known4](http://compbio.mit.edu/encode-motifs/logos/table/logos/small/rev/TAL1_known4.png)"
   ]
  },
  {
   "cell_type": "markdown",
   "metadata": {},
   "source": [
    "## Predict binding with pwm scan model"
   ]
  },
  {
   "cell_type": "code",
   "execution_count": 11,
   "metadata": {},
   "outputs": [],
   "source": [
    "# A naiv version\n",
    "def pwm_scan(sequence, pwm, pad=0, stride=1):\n",
    "    \"\"\" sequence: (N, L, 4)\n",
    "    output length given by L' = 1 + (L + 2*P - F) / stride\n",
    "    \"\"\"\n",
    "    pwm = np.log(pwm)\n",
    "    assert len(sequence.shape) == 3\n",
    "    assert pwm.shape[1] == 4\n",
    "    N, L, _ = sequence.shape\n",
    "    F, _ = pwm.shape\n",
    "    S = stride\n",
    "    assert (L + 2 * pad - F) % S == 0, \"Size not fit.\"\n",
    "    L_out = int(1 + (L + 2 * pad - F) / S)\n",
    "    out = np.zeros((N, L_out))\n",
    "\n",
    "    x_pad = np.pad(sequence, ((0, 0), (1, 1), (0,0)), mode='constant')\n",
    "\n",
    "    ###################################################################\n",
    "    # Fill your code here\n",
    "    # Write the PWM scan (convolution) operation, store the output\n",
    "    # into `out` array.\n",
    "    \n",
    "    \n",
    "    ###################################################################\n",
    "\n",
    "    return out"
   ]
  },
  {
   "cell_type": "code",
   "execution_count": 12,
   "metadata": {},
   "outputs": [],
   "source": [
    "scores = pwm_scan(x_test, pwm)"
   ]
  },
  {
   "cell_type": "code",
   "execution_count": 13,
   "metadata": {},
   "outputs": [
    {
     "data": {
      "text/plain": [
       "(3200, 485)"
      ]
     },
     "execution_count": 13,
     "metadata": {},
     "output_type": "execute_result"
    }
   ],
   "source": [
    "scores.shape"
   ]
  },
  {
   "cell_type": "markdown",
   "metadata": {},
   "source": [
    "## Summarize PWM scan ouput per sequence with two pooling strategies"
   ]
  },
  {
   "cell_type": "markdown",
   "metadata": {},
   "source": [
    "Try two pooling strategies:\n",
    "  * GloabalAveragePooling: Take average score per sequence \n",
    "  * GloabalMaxPooling: take max activation score"
   ]
  },
  {
   "cell_type": "markdown",
   "metadata": {},
   "source": [
    "### Averange Pooling"
   ]
  },
  {
   "cell_type": "code",
   "execution_count": 14,
   "metadata": {},
   "outputs": [],
   "source": [
    "mean_scores = ## Fill your code here"
   ]
  },
  {
   "cell_type": "code",
   "execution_count": null,
   "metadata": {},
   "outputs": [],
   "source": [
    "plt.boxplot([mean_scores[y_test.flatten()], mean_scores[~y_test.flatten()]], labels=['Binding','Not Binding'])\n",
    "plt.ylabel(\"PWM mean score\")\n",
    "plt.show()"
   ]
  },
  {
   "cell_type": "markdown",
   "metadata": {},
   "source": [
    "### Max Pooling"
   ]
  },
  {
   "cell_type": "code",
   "execution_count": 16,
   "metadata": {},
   "outputs": [],
   "source": [
    "max_scores = ## Fill your code here"
   ]
  },
  {
   "cell_type": "code",
   "execution_count": null,
   "metadata": {},
   "outputs": [],
   "source": [
    "plt.boxplot([max_scores[y_test.flatten()], max_scores[~y_test.flatten()]], labels=['Binding','Not Binding'])\n",
    "plt.ylabel(\"PWM mean score\")\n",
    "plt.show()"
   ]
  },
  {
   "cell_type": "markdown",
   "metadata": {},
   "source": [
    "### Check performance"
   ]
  },
  {
   "cell_type": "code",
   "execution_count": 18,
   "metadata": {},
   "outputs": [],
   "source": [
    "from sklearn.metrics import roc_curve, roc_auc_score"
   ]
  },
  {
   "cell_type": "code",
   "execution_count": 19,
   "metadata": {},
   "outputs": [],
   "source": [
    "roc = {}\n",
    "roc['mean_roc'] = roc_auc_score(y_test, mean_scores)\n",
    "roc['max_roc'] = roc_auc_score(y_test, max_scores)"
   ]
  },
  {
   "cell_type": "code",
   "execution_count": 20,
   "metadata": {},
   "outputs": [],
   "source": [
    "fpr = {}\n",
    "tpr = {}\n",
    "fpr['Mean'], tpr[\"Mean\"], _ = roc_curve(y_test, mean_scores)\n",
    "fpr['Max'], tpr[\"Max\"], _ = roc_curve(y_test, max_scores)"
   ]
  },
  {
   "cell_type": "code",
   "execution_count": null,
   "metadata": {},
   "outputs": [],
   "source": [
    "plt.plot(fpr['Mean'], tpr[\"Mean\"], color='darkorange', \n",
    "        label = 'AveragePooling ROC={%0.2f}' % roc['mean_roc'])\n",
    "plt.plot(fpr['Max'], tpr[\"Max\"], color='cornflowerblue', \n",
    "        label = 'MaxPooling ROC={%0.2f}' % roc['max_roc'])\n",
    "plt.plot([0, 1], [0, 1], 'k--')\n",
    "plt.xlabel('False Positive Rate')\n",
    "plt.ylabel('True Positive Rate')\n",
    "plt.legend(loc=\"lower right\")\n",
    "plt.show()"
   ]
  },
  {
   "cell_type": "markdown",
   "metadata": {},
   "source": [
    "## Build a convolutional neural network"
   ]
  },
  {
   "cell_type": "markdown",
   "metadata": {},
   "source": [
    "### Build a Sequential model with only one convolution filter\n",
    "https://keras.io/getting-started/sequential-model-guide/"
   ]
  },
  {
   "cell_type": "markdown",
   "metadata": {},
   "source": [
    "Model achitecture: ConvDNA (which is Conv1D) --> GlobalMaxPooling1D  --> Sigmoid"
   ]
  },
  {
   "cell_type": "code",
   "execution_count": 22,
   "metadata": {},
   "outputs": [],
   "source": [
    "model = Sequential()\n",
    "###################################################################\n",
    "# Fill your code here\n",
    "# Use model.add() to add layers\n",
    "# ConvDNA: cl.ConvDNA\n",
    "# GlobalMaxPooling1D: kl.GlobalMaxPooling1D\n",
    "# Sigmoid: kl.Activation('sigmoid')\n",
    "###################################################################"
   ]
  },
  {
   "cell_type": "code",
   "execution_count": 23,
   "metadata": {},
   "outputs": [
    {
     "name": "stdout",
     "output_type": "stream",
     "text": [
      "_________________________________________________________________\n",
      "Layer (type)                 Output Shape              Param #   \n",
      "=================================================================\n",
      "convDNA (ConvDNA)            (None, 486, 1)            61        \n",
      "_________________________________________________________________\n",
      "global_max_pooling1d_1 (Glob (None, 1)                 0         \n",
      "_________________________________________________________________\n",
      "activation_1 (Activation)    (None, 1)                 0         \n",
      "=================================================================\n",
      "Total params: 61\n",
      "Trainable params: 61\n",
      "Non-trainable params: 0\n",
      "_________________________________________________________________\n"
     ]
    }
   ],
   "source": [
    "model.summary()"
   ]
  },
  {
   "cell_type": "code",
   "execution_count": null,
   "metadata": {},
   "outputs": [],
   "source": [
    "model.compile(optimizer=\"adam\", loss=\"binary_crossentropy\")\n",
    "\n",
    "from keras.callbacks import EarlyStopping\n",
    "\n",
    "model.fit(x=x_train, y=y_train, epochs=300, verbose=2,\n",
    "          callbacks=[EarlyStopping(patience=3)],\n",
    "          validation_split=.2\n",
    "         )"
   ]
  },
  {
   "cell_type": "code",
   "execution_count": null,
   "metadata": {},
   "outputs": [],
   "source": [
    "model.layers[0].plot_weights(figsize=(20, 3), plot_type=\"motif_pwm_info\")"
   ]
  },
  {
   "cell_type": "code",
   "execution_count": 27,
   "metadata": {},
   "outputs": [],
   "source": [
    "y_test_pred = model.predict(x_test)\n",
    "\n",
    "roc['ConvNet1Motif'] = roc_auc_score(y_test, y_test_pred)"
   ]
  },
  {
   "cell_type": "code",
   "execution_count": 28,
   "metadata": {},
   "outputs": [],
   "source": [
    "fpr['ConvNet1Motif'], tpr[\"ConvNet1Motif\"], _ = roc_curve(y_test, y_test_pred)"
   ]
  },
  {
   "cell_type": "code",
   "execution_count": null,
   "metadata": {},
   "outputs": [],
   "source": [
    "plt.plot(fpr['ConvNet1Motif'], tpr[\"ConvNet1Motif\"], color='darkorange', \n",
    "        label = 'ConvNet1Motif ROC={%0.2f}' % roc['ConvNet1Motif'])\n",
    "plt.plot([0, 1], [0, 1], 'k--')\n",
    "plt.xlabel('False Positive Rate')\n",
    "plt.ylabel('True Positive Rate')\n",
    "plt.legend(loc=\"lower right\")\n",
    "plt.show()"
   ]
  },
  {
   "cell_type": "markdown",
   "metadata": {},
   "source": [
    "### Build a model with functional API with 4 filters\n",
    "https://keras.io/getting-started/functional-api-guide/"
   ]
  },
  {
   "cell_type": "markdown",
   "metadata": {},
   "source": [
    "Model achitecture: ConvDNA (which is Conv1D) --> GlobalMaxPooling1D  --> Sigmoid"
   ]
  },
  {
   "cell_type": "code",
   "execution_count": 30,
   "metadata": {},
   "outputs": [],
   "source": [
    "inputs = kl.Input(shape=(500,4))\n",
    "x = cl.ConvDNA(filters=4,\n",
    "                kernel_size=15,\n",
    "                activation='relu',\n",
    "                name='convDNA')(inputs)\n",
    "x = kl.GlobalMaxPooling1D()(x)\n",
    "x = kl.Dense(1, name='dense')(x)\n",
    "x = kl.Activation('sigmoid')(x)\n",
    "\n",
    "model = Model(inputs=inputs, outputs=x)"
   ]
  },
  {
   "cell_type": "code",
   "execution_count": null,
   "metadata": {},
   "outputs": [],
   "source": [
    "model.compile(optimizer=\"adam\", loss=\"binary_crossentropy\")\n",
    "\n",
    "from keras.callbacks import EarlyStopping\n",
    "\n",
    "model.fit(x=x_train, y=y_train, epochs=300, verbose=2,\n",
    "          callbacks=[EarlyStopping(patience=3)],\n",
    "          validation_split=.2\n",
    "         )"
   ]
  },
  {
   "cell_type": "code",
   "execution_count": null,
   "metadata": {},
   "outputs": [],
   "source": [
    "model.layers[1].plot_weights(figsize=(20, 12), plot_type=\"motif_pwm_info\")"
   ]
  },
  {
   "cell_type": "code",
   "execution_count": 33,
   "metadata": {},
   "outputs": [],
   "source": [
    "y_test_pred = model.predict(x_test)\n",
    "\n",
    "roc['ConvNet16Motif'] = roc_auc_score(y_test, y_test_pred)"
   ]
  },
  {
   "cell_type": "code",
   "execution_count": 34,
   "metadata": {},
   "outputs": [],
   "source": [
    "fpr['ConvNet16Motif'], tpr[\"ConvNet16Motif\"], _ = roc_curve(y_test, y_test_pred)"
   ]
  },
  {
   "cell_type": "code",
   "execution_count": null,
   "metadata": {},
   "outputs": [],
   "source": [
    "plt.plot(fpr['ConvNet16Motif'], tpr[\"ConvNet16Motif\"], color='darkorange', \n",
    "        label = 'ConvNet16Motif ROC={%0.2f}' % roc['ConvNet16Motif'])\n",
    "plt.plot([0, 1], [0, 1], 'k--')\n",
    "plt.xlabel('False Positive Rate')\n",
    "plt.ylabel('True Positive Rate')\n",
    "plt.legend(loc=\"lower right\")\n",
    "plt.show()"
   ]
  },
  {
   "cell_type": "code",
   "execution_count": null,
   "metadata": {},
   "outputs": [],
   "source": []
  }
 ],
 "metadata": {
  "kernelspec": {
   "display_name": "Python [conda env:splicing]",
   "language": "python",
   "name": "conda-env-splicing-py"
  },
  "language_info": {
   "codemirror_mode": {
    "name": "ipython",
    "version": 3
   },
   "file_extension": ".py",
   "mimetype": "text/x-python",
   "name": "python",
   "nbconvert_exporter": "python",
   "pygments_lexer": "ipython3",
   "version": "3.5.4"
  }
 },
 "nbformat": 4,
 "nbformat_minor": 2
}
